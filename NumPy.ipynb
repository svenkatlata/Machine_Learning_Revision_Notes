{
  "nbformat": 4,
  "nbformat_minor": 0,
  "metadata": {
    "colab": {
      "provenance": [],
      "toc_visible": true,
      "authorship_tag": "ABX9TyOKm5y07xXXhhQtJVXTHA5U",
      "include_colab_link": true
    },
    "kernelspec": {
      "name": "python3",
      "display_name": "Python 3"
    },
    "language_info": {
      "name": "python"
    }
  },
  "cells": [
    {
      "cell_type": "markdown",
      "metadata": {
        "id": "view-in-github",
        "colab_type": "text"
      },
      "source": [
        "<a href=\"https://colab.research.google.com/github/svenkatlata/Machine_Learning_Revision_Notes/blob/main/NumPy.ipynb\" target=\"_parent\"><img src=\"https://colab.research.google.com/assets/colab-badge.svg\" alt=\"Open In Colab\"/></a>"
      ]
    },
    {
      "cell_type": "markdown",
      "source": [
        "## Importing NumPy"
      ],
      "metadata": {
        "id": "UbKhRCmF0Ekh"
      }
    },
    {
      "cell_type": "code",
      "source": [
        "import numpy as np"
      ],
      "metadata": {
        "id": "koD075LC0AXQ"
      },
      "execution_count": null,
      "outputs": []
    },
    {
      "cell_type": "markdown",
      "source": [
        "## Creating Arrays"
      ],
      "metadata": {
        "id": "lDSrOSkCt_0D"
      }
    },
    {
      "cell_type": "code",
      "source": [
        "arr1 = np.array([1, 2, 3])                # 1D array\n",
        "print(\"arr1:\", arr1)"
      ],
      "metadata": {
        "colab": {
          "base_uri": "https://localhost:8080/"
        },
        "id": "ukjW5uZ8t-D9",
        "outputId": "356a15a2-7406-43f7-a2a9-e87b4b657899"
      },
      "execution_count": null,
      "outputs": [
        {
          "output_type": "stream",
          "name": "stdout",
          "text": [
            "arr1: [1 2 3]\n"
          ]
        }
      ]
    },
    {
      "cell_type": "code",
      "source": [
        "arr2 = np.array([[1, 2], [3, 4]])        # 2D array\n",
        "print(\"arr2:\", arr2)"
      ],
      "metadata": {
        "colab": {
          "base_uri": "https://localhost:8080/"
        },
        "id": "C0pIuxDCuIDp",
        "outputId": "79416ee2-e58b-4d89-ab1c-096060b21db0"
      },
      "execution_count": null,
      "outputs": [
        {
          "output_type": "stream",
          "name": "stdout",
          "text": [
            "arr2: [[1 2]\n",
            " [3 4]]\n"
          ]
        }
      ]
    },
    {
      "cell_type": "code",
      "source": [
        "zeros = np.zeros((2, 3))                 # Array of zeros\n",
        "print(\"zeros:\", zeros)"
      ],
      "metadata": {
        "colab": {
          "base_uri": "https://localhost:8080/"
        },
        "id": "dCd9kHXzuIBJ",
        "outputId": "0c4e3a47-eea2-43ee-8aa8-2071ddb011e4"
      },
      "execution_count": null,
      "outputs": [
        {
          "output_type": "stream",
          "name": "stdout",
          "text": [
            "zeros: [[0. 0. 0.]\n",
            " [0. 0. 0.]]\n"
          ]
        }
      ]
    },
    {
      "cell_type": "code",
      "source": [
        "ones = np.ones((2, 3))                   # Array of ones\n",
        "print(\"ones:\", ones)"
      ],
      "metadata": {
        "colab": {
          "base_uri": "https://localhost:8080/"
        },
        "id": "UPkSaZNvuH-E",
        "outputId": "c2a16243-bf83-4bd5-b50e-4138c3997128"
      },
      "execution_count": null,
      "outputs": [
        {
          "output_type": "stream",
          "name": "stdout",
          "text": [
            "ones: [[1. 1. 1.]\n",
            " [1. 1. 1.]]\n"
          ]
        }
      ]
    },
    {
      "cell_type": "code",
      "source": [
        "full = np.full((2, 3), 7)                # Array of a constant\n",
        "print(\"full:\", full)"
      ],
      "metadata": {
        "colab": {
          "base_uri": "https://localhost:8080/"
        },
        "id": "qe1qrAnOuH7K",
        "outputId": "7e179332-77d9-4b4b-e099-eb3bfa780222"
      },
      "execution_count": null,
      "outputs": [
        {
          "output_type": "stream",
          "name": "stdout",
          "text": [
            "full: [[7 7 7]\n",
            " [7 7 7]]\n"
          ]
        }
      ]
    },
    {
      "cell_type": "code",
      "source": [
        "identity = np.eye(3)                     # Identity matrix\n",
        "print(\"identity:\", identity)"
      ],
      "metadata": {
        "colab": {
          "base_uri": "https://localhost:8080/"
        },
        "id": "fnEEqWIRuH4j",
        "outputId": "c0a2ef20-cce5-4fbf-8801-280fe6721b09"
      },
      "execution_count": null,
      "outputs": [
        {
          "output_type": "stream",
          "name": "stdout",
          "text": [
            "identity: [[1. 0. 0.]\n",
            " [0. 1. 0.]\n",
            " [0. 0. 1.]]\n"
          ]
        }
      ]
    },
    {
      "cell_type": "code",
      "source": [
        "random = np.random.rand(2, 3)            # Random array\n",
        "print(\"random:\", random)"
      ],
      "metadata": {
        "colab": {
          "base_uri": "https://localhost:8080/"
        },
        "id": "vf1IpK9NuH1t",
        "outputId": "414b3b05-2fc1-4d38-975d-56c7b74fb50e"
      },
      "execution_count": null,
      "outputs": [
        {
          "output_type": "stream",
          "name": "stdout",
          "text": [
            "random: [[0.57410216 0.58996726 0.9621054 ]\n",
            " [0.54678423 0.32119729 0.92720906]]\n"
          ]
        }
      ]
    },
    {
      "cell_type": "code",
      "source": [
        "arange = np.arange(0, 10, 2)             # Array with range and step\n",
        "print(\"arange:\", arange)"
      ],
      "metadata": {
        "colab": {
          "base_uri": "https://localhost:8080/"
        },
        "id": "5WMUHFanuHy6",
        "outputId": "6fc04059-8524-4fed-d65f-a648a64b1011"
      },
      "execution_count": null,
      "outputs": [
        {
          "output_type": "stream",
          "name": "stdout",
          "text": [
            "arange: [0 2 4 6 8]\n"
          ]
        }
      ]
    },
    {
      "cell_type": "code",
      "source": [
        "linspace = np.linspace(0, 1, 5)          # Array with linearly spaced values\n",
        "print(\"linspace:\", linspace)"
      ],
      "metadata": {
        "colab": {
          "base_uri": "https://localhost:8080/"
        },
        "id": "l-Te8YkpuHsu",
        "outputId": "07c989ef-7125-4977-db1d-30980adcf6b2"
      },
      "execution_count": null,
      "outputs": [
        {
          "output_type": "stream",
          "name": "stdout",
          "text": [
            "linspace: [0.   0.25 0.5  0.75 1.  ]\n"
          ]
        }
      ]
    },
    {
      "cell_type": "code",
      "source": [
        "empty = np.empty((2, 3))                 # Array with uninitialized values\n",
        "print(\"empty:\", empty)"
      ],
      "metadata": {
        "colab": {
          "base_uri": "https://localhost:8080/"
        },
        "id": "fQ-SZEMAuHdR",
        "outputId": "7fe186d9-0545-43c6-89f7-7b507f5f3e66"
      },
      "execution_count": null,
      "outputs": [
        {
          "output_type": "stream",
          "name": "stdout",
          "text": [
            "empty: [[0.57410216 0.58996726 0.9621054 ]\n",
            " [0.54678423 0.32119729 0.92720906]]\n"
          ]
        }
      ]
    },
    {
      "cell_type": "markdown",
      "source": [
        "## Array Properties"
      ],
      "metadata": {
        "id": "1VXushNjucLE"
      }
    },
    {
      "cell_type": "code",
      "source": [
        "shape = arr2.shape                       # Shape of the array\n",
        "print(\"shape:\", shape)"
      ],
      "metadata": {
        "colab": {
          "base_uri": "https://localhost:8080/"
        },
        "id": "tcga5VviugnP",
        "outputId": "f8a41cf9-c1bb-4c11-cbca-0d7ba74bda8d"
      },
      "execution_count": null,
      "outputs": [
        {
          "output_type": "stream",
          "name": "stdout",
          "text": [
            "shape: (2, 2)\n"
          ]
        }
      ]
    },
    {
      "cell_type": "code",
      "source": [
        "dtype = arr1.dtype                       # Data type of the array\n",
        "print(\"dtype:\", dtype)"
      ],
      "metadata": {
        "colab": {
          "base_uri": "https://localhost:8080/"
        },
        "id": "ow04RzO5uhze",
        "outputId": "d84eb243-6ba7-4776-dfff-875fa04cb954"
      },
      "execution_count": null,
      "outputs": [
        {
          "output_type": "stream",
          "name": "stdout",
          "text": [
            "dtype: int64\n"
          ]
        }
      ]
    },
    {
      "cell_type": "code",
      "source": [
        "size = arr1.size                         # Number of elements in the array\n",
        "print(\"size:\", size)"
      ],
      "metadata": {
        "colab": {
          "base_uri": "https://localhost:8080/"
        },
        "id": "T6qCIxCauhxO",
        "outputId": "bdf7e80a-5af8-4cd1-d44f-82a91c5eb9fe"
      },
      "execution_count": null,
      "outputs": [
        {
          "output_type": "stream",
          "name": "stdout",
          "text": [
            "size: 3\n"
          ]
        }
      ]
    },
    {
      "cell_type": "code",
      "source": [
        "ndim = arr2.ndim                         # Number of dimensions\n",
        "print(\"ndim:\", ndim)"
      ],
      "metadata": {
        "colab": {
          "base_uri": "https://localhost:8080/"
        },
        "id": "E3PWhmZmuhu4",
        "outputId": "bc2469a2-0e84-47b8-8a03-b675b0c7a341"
      },
      "execution_count": null,
      "outputs": [
        {
          "output_type": "stream",
          "name": "stdout",
          "text": [
            "ndim: 2\n"
          ]
        }
      ]
    },
    {
      "cell_type": "code",
      "source": [
        "itemsize = arr1.itemsize                 # Size of each element in bytes\n",
        "print(\"itemsize:\", itemsize)"
      ],
      "metadata": {
        "colab": {
          "base_uri": "https://localhost:8080/"
        },
        "id": "ZEUS24teuhrH",
        "outputId": "a0a7e859-0d7d-4e3b-b061-411ba946fade"
      },
      "execution_count": null,
      "outputs": [
        {
          "output_type": "stream",
          "name": "stdout",
          "text": [
            "itemsize: 8\n"
          ]
        }
      ]
    },
    {
      "cell_type": "code",
      "source": [
        "nbytes = arr1.nbytes                     # Total bytes consumed by the array\n",
        "print(\"nbytes:\", nbytes)"
      ],
      "metadata": {
        "colab": {
          "base_uri": "https://localhost:8080/"
        },
        "id": "BbQ4hUL7ugkc",
        "outputId": "b4a1be16-d429-43bc-e6ac-2c621dd342e8"
      },
      "execution_count": null,
      "outputs": [
        {
          "output_type": "stream",
          "name": "stdout",
          "text": [
            "nbytes: 24\n"
          ]
        }
      ]
    },
    {
      "cell_type": "code",
      "source": [
        "strides = arr2.strides                   # Tuple of bytes to step in each dimension\n",
        "print(\"strides:\", strides)"
      ],
      "metadata": {
        "colab": {
          "base_uri": "https://localhost:8080/"
        },
        "id": "FnoFOQ7qugh5",
        "outputId": "67ffe9ba-6aec-4018-edb7-595570bf32f4"
      },
      "execution_count": null,
      "outputs": [
        {
          "output_type": "stream",
          "name": "stdout",
          "text": [
            "strides: (16, 8)\n"
          ]
        }
      ]
    },
    {
      "cell_type": "markdown",
      "source": [
        "## Indexing and Slicing"
      ],
      "metadata": {
        "id": "a541rTj-u3Ce"
      }
    },
    {
      "cell_type": "code",
      "source": [
        "arr = np.array([10, 20, 30, 40, 50])\n",
        "print(\"arr:\", arr)"
      ],
      "metadata": {
        "colab": {
          "base_uri": "https://localhost:8080/"
        },
        "id": "VOTzuW-0ugeo",
        "outputId": "2f41fbfa-c0af-434e-a399-dff6562a09ac"
      },
      "execution_count": null,
      "outputs": [
        {
          "output_type": "stream",
          "name": "stdout",
          "text": [
            "arr: [10 20 30 40 50]\n"
          ]
        }
      ]
    },
    {
      "cell_type": "code",
      "source": [
        "first_element = arr[0]                   # Accessing first element\n",
        "print(\"first_element:\", first_element)"
      ],
      "metadata": {
        "colab": {
          "base_uri": "https://localhost:8080/"
        },
        "id": "7R7YBr--vSgd",
        "outputId": "4cfc9c26-87ac-4535-a4cd-2721b418a879"
      },
      "execution_count": null,
      "outputs": [
        {
          "output_type": "stream",
          "name": "stdout",
          "text": [
            "first_element: 10\n"
          ]
        }
      ]
    },
    {
      "cell_type": "code",
      "source": [
        "slice = arr[1:4]                         # Slicing array\n",
        "print(\"slice:\", slice)"
      ],
      "metadata": {
        "colab": {
          "base_uri": "https://localhost:8080/"
        },
        "id": "vj0I4baYvVC6",
        "outputId": "4479ac3f-760b-47f1-f3db-6d521a22a4fc"
      },
      "execution_count": null,
      "outputs": [
        {
          "output_type": "stream",
          "name": "stdout",
          "text": [
            "slice: [20 30 40]\n"
          ]
        }
      ]
    },
    {
      "cell_type": "code",
      "source": [
        "reversed_arr = arr[::-1]                 # Reversing array\n",
        "print(\"reversed_arr:\", reversed_arr)"
      ],
      "metadata": {
        "colab": {
          "base_uri": "https://localhost:8080/"
        },
        "id": "VG7fl9T5vVA2",
        "outputId": "927bf493-27cd-4917-c0cb-9649bfc40544"
      },
      "execution_count": null,
      "outputs": [
        {
          "output_type": "stream",
          "name": "stdout",
          "text": [
            "reversed_arr: [50 40 30 20 10]\n"
          ]
        }
      ]
    },
    {
      "cell_type": "code",
      "source": [
        "multi_index = arr2[0, 1]                 # Access specific element in 2D array\n",
        "print(\"multi_index:\", multi_index)"
      ],
      "metadata": {
        "colab": {
          "base_uri": "https://localhost:8080/"
        },
        "id": "jIU9DtXhvU7M",
        "outputId": "622fcbaa-75d1-40b7-8d01-4c87c245c837"
      },
      "execution_count": null,
      "outputs": [
        {
          "output_type": "stream",
          "name": "stdout",
          "text": [
            "multi_index: 2\n"
          ]
        }
      ]
    },
    {
      "cell_type": "code",
      "source": [
        "step_slice = arr[::2]                    # Step slicing\n",
        "print(\"step_slice:\", step_slice)"
      ],
      "metadata": {
        "colab": {
          "base_uri": "https://localhost:8080/"
        },
        "id": "jmYmJiL2vU6L",
        "outputId": "8ae7bb84-12cf-44d2-d7b4-eed1bfe7e17b"
      },
      "execution_count": null,
      "outputs": [
        {
          "output_type": "stream",
          "name": "stdout",
          "text": [
            "step_slice: [10 30 50]\n"
          ]
        }
      ]
    },
    {
      "cell_type": "markdown",
      "source": [
        "## **Vectorization** - Basic Operations\n",
        "\n",
        "Vectorization refers to performing operations on entire arrays (or vectors) without using explicit loops. It leverages low-level optimizations in C or Fortran for high performance.\n",
        "\n",
        "```python\n",
        "import numpy as np\n",
        "\n",
        "# Adding two arrays\n",
        "a = np.array([1, 2, 3])\n",
        "b = np.array([4, 5, 6])\n",
        "\n",
        "# Vectorized addition\n",
        "c = a + b\n",
        "print(c)  # Output: [5 7 9]\n",
        "```"
      ],
      "metadata": {
        "id": "Ju9epEilFI5j"
      }
    },
    {
      "cell_type": "code",
      "source": [
        "add = arr1 + arr1                        # Element-wise addition\n",
        "print(\"add:\", add)"
      ],
      "metadata": {
        "colab": {
          "base_uri": "https://localhost:8080/"
        },
        "id": "Nr1FX5RsvU5D",
        "outputId": "4da14d70-6321-4449-ea67-398bb9ba556d"
      },
      "execution_count": null,
      "outputs": [
        {
          "output_type": "stream",
          "name": "stdout",
          "text": [
            "add: [2 4 6]\n"
          ]
        }
      ]
    },
    {
      "cell_type": "code",
      "source": [
        "subtract = arr1 - arr1                   # Element-wise subtraction\n",
        "print(\"subtract:\", subtract)"
      ],
      "metadata": {
        "colab": {
          "base_uri": "https://localhost:8080/"
        },
        "id": "LoQdfAZ2vUPp",
        "outputId": "bdae0c30-b643-4490-e2af-ea2d1d1d676c"
      },
      "execution_count": null,
      "outputs": [
        {
          "output_type": "stream",
          "name": "stdout",
          "text": [
            "subtract: [0 0 0]\n"
          ]
        }
      ]
    },
    {
      "cell_type": "code",
      "source": [
        "multiply = arr1 * arr1                   # Element-wise multiplication\n",
        "print(\"multiply:\", multiply)"
      ],
      "metadata": {
        "colab": {
          "base_uri": "https://localhost:8080/"
        },
        "id": "pMCB5lLUvT1Y",
        "outputId": "01232069-b8a3-4591-b215-6ff10c2beb0c"
      },
      "execution_count": null,
      "outputs": [
        {
          "output_type": "stream",
          "name": "stdout",
          "text": [
            "multiply: [1 4 9]\n"
          ]
        }
      ]
    },
    {
      "cell_type": "code",
      "source": [
        "divide = arr1 / arr1                     # Element-wise division\n",
        "print(\"divide:\", divide)"
      ],
      "metadata": {
        "colab": {
          "base_uri": "https://localhost:8080/"
        },
        "id": "HItAfGK2vTz4",
        "outputId": "d6688d61-13fe-4619-bf81-1db780cdf747"
      },
      "execution_count": null,
      "outputs": [
        {
          "output_type": "stream",
          "name": "stdout",
          "text": [
            "divide: [1. 1. 1.]\n"
          ]
        }
      ]
    },
    {
      "cell_type": "code",
      "source": [
        "dot_product = np.dot(arr1, arr1)         # Dot product\n",
        "print(\"dot_product:\", dot_product)"
      ],
      "metadata": {
        "colab": {
          "base_uri": "https://localhost:8080/"
        },
        "id": "uHy6i-Q-vTyp",
        "outputId": "16761cc1-0d39-478b-9594-8947a58c1a42"
      },
      "execution_count": null,
      "outputs": [
        {
          "output_type": "stream",
          "name": "stdout",
          "text": [
            "dot_product: 14\n"
          ]
        }
      ]
    },
    {
      "cell_type": "code",
      "source": [
        "power = np.power(arr1, 2)                # Element-wise power\n",
        "print(\"power:\", power)"
      ],
      "metadata": {
        "colab": {
          "base_uri": "https://localhost:8080/"
        },
        "id": "V-XO1CQUvxuh",
        "outputId": "5ef429fd-f996-4bcb-a6ed-fbee67777bcb"
      },
      "execution_count": null,
      "outputs": [
        {
          "output_type": "stream",
          "name": "stdout",
          "text": [
            "power: [1 4 9]\n"
          ]
        }
      ]
    },
    {
      "cell_type": "code",
      "source": [
        "modulus = np.mod(arr1, 2)                # Element-wise modulus\n",
        "print(\"modulus:\", modulus)"
      ],
      "metadata": {
        "colab": {
          "base_uri": "https://localhost:8080/"
        },
        "id": "tePUjNXXvxgl",
        "outputId": "b12e2ea1-6488-4c28-9f1e-9a5842faf3d5"
      },
      "execution_count": null,
      "outputs": [
        {
          "output_type": "stream",
          "name": "stdout",
          "text": [
            "modulus: [1 0 1]\n"
          ]
        }
      ]
    },
    {
      "cell_type": "code",
      "source": [
        "comparison = arr1 > 1                    # Element-wise comparison\n",
        "print(\"comparison:\", comparison)"
      ],
      "metadata": {
        "colab": {
          "base_uri": "https://localhost:8080/"
        },
        "id": "XlTtJ2MhvxUQ",
        "outputId": "0e945b5d-e118-4101-d493-60cc0bb6e497"
      },
      "execution_count": null,
      "outputs": [
        {
          "output_type": "stream",
          "name": "stdout",
          "text": [
            "comparison: [False  True  True]\n"
          ]
        }
      ]
    },
    {
      "cell_type": "markdown",
      "source": [
        "## Mathematical Functions\n"
      ],
      "metadata": {
        "id": "EpIPYl6Av4J2"
      }
    },
    {
      "cell_type": "code",
      "source": [
        "sqrt = np.sqrt(arr1)                     # Square root\n",
        "print(\"sqrt:\", sqrt)"
      ],
      "metadata": {
        "colab": {
          "base_uri": "https://localhost:8080/"
        },
        "id": "XhKabWX2vxII",
        "outputId": "02c0a62e-e647-45ff-f4a0-b0e06f320f8f"
      },
      "execution_count": null,
      "outputs": [
        {
          "output_type": "stream",
          "name": "stdout",
          "text": [
            "sqrt: [1.         1.41421356 1.73205081]\n"
          ]
        }
      ]
    },
    {
      "cell_type": "code",
      "source": [
        "sin = np.sin(arr1)                       # Sine\n",
        "print(\"sin:\", sin)"
      ],
      "metadata": {
        "colab": {
          "base_uri": "https://localhost:8080/"
        },
        "id": "wrzwCWbVvw8E",
        "outputId": "4b972acb-7ad9-4e59-c7f9-20927d04041b"
      },
      "execution_count": null,
      "outputs": [
        {
          "output_type": "stream",
          "name": "stdout",
          "text": [
            "sin: [0.84147098 0.90929743 0.14112001]\n"
          ]
        }
      ]
    },
    {
      "cell_type": "code",
      "source": [
        "cos = np.cos(arr1)                       # Cosine\n",
        "print(\"cos:\", cos)"
      ],
      "metadata": {
        "colab": {
          "base_uri": "https://localhost:8080/"
        },
        "id": "1PmjAzBdvwuF",
        "outputId": "0a144451-1ef5-47f3-8beb-fae5fb2ea338"
      },
      "execution_count": null,
      "outputs": [
        {
          "output_type": "stream",
          "name": "stdout",
          "text": [
            "cos: [ 0.54030231 -0.41614684 -0.9899925 ]\n"
          ]
        }
      ]
    },
    {
      "cell_type": "code",
      "source": [
        "tan = np.tan(arr1)                       # Tangent\n",
        "print(\"tan:\", tan)"
      ],
      "metadata": {
        "colab": {
          "base_uri": "https://localhost:8080/"
        },
        "id": "yvbqrIvFv7Xz",
        "outputId": "82572f86-8d70-4154-fbe5-44d27a690fde"
      },
      "execution_count": null,
      "outputs": [
        {
          "output_type": "stream",
          "name": "stdout",
          "text": [
            "tan: [ 1.55740772 -2.18503986 -0.14254654]\n"
          ]
        }
      ]
    },
    {
      "cell_type": "code",
      "source": [
        "log = np.log(arr1)                       # Natural logarithm\n",
        "print(\"log:\", log)"
      ],
      "metadata": {
        "colab": {
          "base_uri": "https://localhost:8080/"
        },
        "id": "YCcw-Svav7UY",
        "outputId": "52900802-f5bb-4fb5-c8a4-4ca5d7e8d699"
      },
      "execution_count": null,
      "outputs": [
        {
          "output_type": "stream",
          "name": "stdout",
          "text": [
            "log: [0.         0.69314718 1.09861229]\n"
          ]
        }
      ]
    },
    {
      "cell_type": "code",
      "source": [
        "log10 = np.log10(arr1)                   # Logarithm base 10\n",
        "print(\"log10:\", log10)"
      ],
      "metadata": {
        "colab": {
          "base_uri": "https://localhost:8080/"
        },
        "id": "6vQ9NKpzv7R7",
        "outputId": "0e89da32-3e6e-4351-d320-575887be6f5d"
      },
      "execution_count": null,
      "outputs": [
        {
          "output_type": "stream",
          "name": "stdout",
          "text": [
            "log10: [0.         0.30103    0.47712125]\n"
          ]
        }
      ]
    },
    {
      "cell_type": "code",
      "source": [
        "exp = np.exp(arr1)                       # Exponential\n",
        "print(\"exp:\", exp)"
      ],
      "metadata": {
        "colab": {
          "base_uri": "https://localhost:8080/"
        },
        "id": "jGzoKVGOv7PX",
        "outputId": "28357437-1231-4223-8498-ce0f14706ea3"
      },
      "execution_count": null,
      "outputs": [
        {
          "output_type": "stream",
          "name": "stdout",
          "text": [
            "exp: [ 2.71828183  7.3890561  20.08553692]\n"
          ]
        }
      ]
    },
    {
      "cell_type": "code",
      "source": [
        "abs_val = np.abs(arr1 - 2)               # Absolute value\n",
        "print(\"abs_val:\", abs_val)"
      ],
      "metadata": {
        "colab": {
          "base_uri": "https://localhost:8080/"
        },
        "id": "kujf3vD-v7Mx",
        "outputId": "ca5ac6b6-4c84-431d-c6ee-9269117d5559"
      },
      "execution_count": null,
      "outputs": [
        {
          "output_type": "stream",
          "name": "stdout",
          "text": [
            "abs_val: [1 0 1]\n"
          ]
        }
      ]
    },
    {
      "cell_type": "markdown",
      "source": [
        "## Aggregations\n"
      ],
      "metadata": {
        "id": "5nfzfq4Swc3V"
      }
    },
    {
      "cell_type": "code",
      "source": [
        "sum_elements = arr2.sum()                # Sum of all elements\n",
        "print(\"sum_elements:\", sum_elements)"
      ],
      "metadata": {
        "colab": {
          "base_uri": "https://localhost:8080/"
        },
        "id": "cEf1E9Wkv7KN",
        "outputId": "96d700fa-b792-4841-8e55-24be233c3340"
      },
      "execution_count": null,
      "outputs": [
        {
          "output_type": "stream",
          "name": "stdout",
          "text": [
            "sum_elements: 10\n"
          ]
        }
      ]
    },
    {
      "cell_type": "code",
      "source": [
        "max_element = arr2.max()                 # Maximum element\n",
        "print(\"max_element:\", max_element)"
      ],
      "metadata": {
        "colab": {
          "base_uri": "https://localhost:8080/"
        },
        "id": "dfbpnvwAwldU",
        "outputId": "dd837868-e67e-466b-e1b8-c21f644296a4"
      },
      "execution_count": null,
      "outputs": [
        {
          "output_type": "stream",
          "name": "stdout",
          "text": [
            "max_element: 4\n"
          ]
        }
      ]
    },
    {
      "cell_type": "code",
      "source": [
        "min_element = arr2.min()                 # Minimum element\n",
        "print(\"min_element:\", min_element)"
      ],
      "metadata": {
        "colab": {
          "base_uri": "https://localhost:8080/"
        },
        "id": "EHv97ASgwlZ6",
        "outputId": "8390c9a4-8fc9-4507-aac2-6e4e92726e41"
      },
      "execution_count": null,
      "outputs": [
        {
          "output_type": "stream",
          "name": "stdout",
          "text": [
            "min_element: 1\n"
          ]
        }
      ]
    },
    {
      "cell_type": "code",
      "source": [
        "mean_value = arr2.mean()                 # Mean\n",
        "print(\"mean_value:\", mean_value)"
      ],
      "metadata": {
        "colab": {
          "base_uri": "https://localhost:8080/"
        },
        "id": "9aOaeo6_wlYK",
        "outputId": "8b926fbb-edd3-437c-ffae-bf4fcec0a384"
      },
      "execution_count": null,
      "outputs": [
        {
          "output_type": "stream",
          "name": "stdout",
          "text": [
            "mean_value: 2.5\n"
          ]
        }
      ]
    },
    {
      "cell_type": "code",
      "source": [
        "median_value = np.median(arr2)           # Median\n",
        "print(\"median_value:\", median_value)"
      ],
      "metadata": {
        "colab": {
          "base_uri": "https://localhost:8080/"
        },
        "id": "2RpkwFAw3si1",
        "outputId": "3b048dd0-3903-4215-d8f2-fa7246073499"
      },
      "execution_count": null,
      "outputs": [
        {
          "output_type": "stream",
          "name": "stdout",
          "text": [
            "median_value: 2.5\n"
          ]
        }
      ]
    },
    {
      "cell_type": "code",
      "source": [
        "percentile_25 = np.percentile(arr2, 25)  # 25th Percentile\n",
        "print(\"percentile_25:\", percentile_25)"
      ],
      "metadata": {
        "colab": {
          "base_uri": "https://localhost:8080/"
        },
        "id": "soPEitvO3sZQ",
        "outputId": "e2e36ec9-a07c-45da-e16c-693320510fd7"
      },
      "execution_count": null,
      "outputs": [
        {
          "output_type": "stream",
          "name": "stdout",
          "text": [
            "percentile_25: 1.75\n"
          ]
        }
      ]
    },
    {
      "cell_type": "code",
      "source": [
        "percentile_75 = np.percentile(arr2, 75)  # 75th Percentile\n",
        "print(\"percentile_75:\", percentile_75)"
      ],
      "metadata": {
        "colab": {
          "base_uri": "https://localhost:8080/"
        },
        "id": "I_VDEcb73sT3",
        "outputId": "26c82c25-4394-45c2-e700-63e7e7864f86"
      },
      "execution_count": null,
      "outputs": [
        {
          "output_type": "stream",
          "name": "stdout",
          "text": [
            "percentile_75: 3.25\n"
          ]
        }
      ]
    },
    {
      "cell_type": "code",
      "source": [
        "std_dev = arr2.std()                     # Standard deviation\n",
        "print(\"std_dev:\", std_dev)"
      ],
      "metadata": {
        "colab": {
          "base_uri": "https://localhost:8080/"
        },
        "id": "Ym8cS6h1wlVU",
        "outputId": "efb7c97a-5e59-4bca-ea97-dd5b02b8ce38"
      },
      "execution_count": null,
      "outputs": [
        {
          "output_type": "stream",
          "name": "stdout",
          "text": [
            "std_dev: 1.118033988749895\n"
          ]
        }
      ]
    },
    {
      "cell_type": "code",
      "source": [
        "var = arr2.var()                         # Variance\n",
        "print(\"var:\", var)"
      ],
      "metadata": {
        "colab": {
          "base_uri": "https://localhost:8080/"
        },
        "id": "-FZ72gU_wlSt",
        "outputId": "bb2d04a8-45c9-4a4a-ceaa-3800c9b5e7a7"
      },
      "execution_count": null,
      "outputs": [
        {
          "output_type": "stream",
          "name": "stdout",
          "text": [
            "var: 1.25\n"
          ]
        }
      ]
    },
    {
      "cell_type": "code",
      "source": [
        "cumsum = arr2.cumsum()                   # Cumulative sum\n",
        "print(\"cumsum:\", cumsum)"
      ],
      "metadata": {
        "colab": {
          "base_uri": "https://localhost:8080/"
        },
        "id": "FyqM_d_mwlQl",
        "outputId": "94490a51-4f86-4b23-c202-93ea9c65ed0b"
      },
      "execution_count": null,
      "outputs": [
        {
          "output_type": "stream",
          "name": "stdout",
          "text": [
            "cumsum: [ 1  3  6 10]\n"
          ]
        }
      ]
    },
    {
      "cell_type": "code",
      "source": [
        "cumprod = arr2.cumprod()                 # Cumulative product\n",
        "print(\"cumprod:\", cumprod)"
      ],
      "metadata": {
        "colab": {
          "base_uri": "https://localhost:8080/"
        },
        "id": "mfr9uIAWwlOI",
        "outputId": "50360b0a-9299-44e3-f356-d0c292a3a211"
      },
      "execution_count": null,
      "outputs": [
        {
          "output_type": "stream",
          "name": "stdout",
          "text": [
            "cumprod: [ 1  2  6 24]\n"
          ]
        }
      ]
    },
    {
      "cell_type": "code",
      "source": [
        "prod = arr2.prod()                       # Product of all elements\n",
        "print(\"prod:\", prod)"
      ],
      "metadata": {
        "colab": {
          "base_uri": "https://localhost:8080/"
        },
        "id": "qgUv0kzDwlLh",
        "outputId": "f6fbb134-067d-45f8-c91c-3b3f3ee41d60"
      },
      "execution_count": null,
      "outputs": [
        {
          "output_type": "stream",
          "name": "stdout",
          "text": [
            "prod: 24\n"
          ]
        }
      ]
    },
    {
      "cell_type": "code",
      "source": [
        "argmax = arr2.argmax()                   # Index of maximum element\n",
        "print(\"argmax:\", argmax)"
      ],
      "metadata": {
        "colab": {
          "base_uri": "https://localhost:8080/"
        },
        "id": "Jcpd293YwlI2",
        "outputId": "9dfd717c-43aa-4c47-bb6f-8e901b0db42a"
      },
      "execution_count": null,
      "outputs": [
        {
          "output_type": "stream",
          "name": "stdout",
          "text": [
            "argmax: 3\n"
          ]
        }
      ]
    },
    {
      "cell_type": "code",
      "source": [
        "argmin = arr2.argmin()                   # Index of minimum element\n",
        "print(\"argmin:\", argmin)"
      ],
      "metadata": {
        "colab": {
          "base_uri": "https://localhost:8080/"
        },
        "id": "3SA2Np1_wlGY",
        "outputId": "00162940-c4f6-4e23-fcd5-e6c1252bd06a"
      },
      "execution_count": null,
      "outputs": [
        {
          "output_type": "stream",
          "name": "stdout",
          "text": [
            "argmin: 0\n"
          ]
        }
      ]
    },
    {
      "cell_type": "markdown",
      "source": [
        "## Sorting\n"
      ],
      "metadata": {
        "id": "J2cn6Nmp4dz2"
      }
    },
    {
      "cell_type": "code",
      "source": [
        "sorted_arr = np.sort(arr)                # Sort array along the last axis\n",
        "print(\"sorted_arr:\", sorted_arr)"
      ],
      "metadata": {
        "colab": {
          "base_uri": "https://localhost:8080/"
        },
        "id": "KmbGw9Uj4eXd",
        "outputId": "7574280f-91b2-4e08-ce01-2e76d92aee12"
      },
      "execution_count": null,
      "outputs": [
        {
          "output_type": "stream",
          "name": "stdout",
          "text": [
            "sorted_arr: [10 20 30 40 50]\n"
          ]
        }
      ]
    },
    {
      "cell_type": "code",
      "source": [
        "sorted_arr_axis0 = np.sort(arr2, axis=0) # Sort 2D array along rows\n",
        "print(\"sorted_arr_axis0:\", sorted_arr_axis0)"
      ],
      "metadata": {
        "colab": {
          "base_uri": "https://localhost:8080/"
        },
        "id": "QEp_qcru4mrV",
        "outputId": "002efa2d-ac1d-4414-aa81-753745ee4ef6"
      },
      "execution_count": null,
      "outputs": [
        {
          "output_type": "stream",
          "name": "stdout",
          "text": [
            "sorted_arr_axis0: [[1 2]\n",
            " [3 4]]\n"
          ]
        }
      ]
    },
    {
      "cell_type": "code",
      "source": [
        "sorted_arr_axis1 = np.sort(arr2, axis=1) # Sort 2D array along columns\n",
        "print(\"sorted_arr_axis1:\", sorted_arr_axis1)"
      ],
      "metadata": {
        "colab": {
          "base_uri": "https://localhost:8080/"
        },
        "id": "_2H4uIQ34moV",
        "outputId": "a2d0533b-284e-476e-e66b-f7eb46a748e0"
      },
      "execution_count": null,
      "outputs": [
        {
          "output_type": "stream",
          "name": "stdout",
          "text": [
            "sorted_arr_axis1: [[1 2]\n",
            " [3 4]]\n"
          ]
        }
      ]
    },
    {
      "cell_type": "code",
      "source": [
        "indices = np.argsort(arr)                # Indices that would sort the array\n",
        "print(\"indices:\", indices)"
      ],
      "metadata": {
        "colab": {
          "base_uri": "https://localhost:8080/"
        },
        "id": "JAlBTDdD4mlT",
        "outputId": "197099c7-d5ff-4cd2-cce6-332f5004644d"
      },
      "execution_count": null,
      "outputs": [
        {
          "output_type": "stream",
          "name": "stdout",
          "text": [
            "indices: [0 1 2 3 4]\n"
          ]
        }
      ]
    },
    {
      "cell_type": "markdown",
      "source": [
        "## Reshaping and Transposing"
      ],
      "metadata": {
        "id": "e3YmIK8Cw5O-"
      }
    },
    {
      "cell_type": "code",
      "source": [
        "reshaped = arr1.reshape((3, 1))          # Reshaping array\n",
        "print(\"reshaped:\", reshaped)"
      ],
      "metadata": {
        "colab": {
          "base_uri": "https://localhost:8080/"
        },
        "id": "D6KxfvMuwkmF",
        "outputId": "f72c65d8-07a7-4889-dccd-d9a72ce87413"
      },
      "execution_count": null,
      "outputs": [
        {
          "output_type": "stream",
          "name": "stdout",
          "text": [
            "reshaped: [[1]\n",
            " [2]\n",
            " [3]]\n"
          ]
        }
      ]
    },
    {
      "cell_type": "code",
      "source": [
        "flattened = arr2.flatten()               # Flattening array\n",
        "print(\"flattened:\", flattened)"
      ],
      "metadata": {
        "colab": {
          "base_uri": "https://localhost:8080/"
        },
        "id": "fqRR-mKlv7HX",
        "outputId": "99356a90-cb92-4ab3-98c3-b9d925f8e1e0"
      },
      "execution_count": null,
      "outputs": [
        {
          "output_type": "stream",
          "name": "stdout",
          "text": [
            "flattened: [1 2 3 4]\n"
          ]
        }
      ]
    },
    {
      "cell_type": "code",
      "source": [
        "transposed = arr2.T                      # Transposing array\n",
        "print(\"transposed:\", transposed)"
      ],
      "metadata": {
        "colab": {
          "base_uri": "https://localhost:8080/"
        },
        "id": "LQTV4XBXw_-d",
        "outputId": "f0ecc5f9-b5a3-42c8-9ee1-6a106edba0ad"
      },
      "execution_count": null,
      "outputs": [
        {
          "output_type": "stream",
          "name": "stdout",
          "text": [
            "transposed: [[1 3]\n",
            " [2 4]]\n"
          ]
        }
      ]
    },
    {
      "cell_type": "code",
      "source": [
        "resize = np.resize(arr1, (2, 3))         # Resize array\n",
        "print(\"resize:\", resize)"
      ],
      "metadata": {
        "colab": {
          "base_uri": "https://localhost:8080/"
        },
        "id": "9nh4zS0xw_7F",
        "outputId": "0ee702da-bf90-4e32-f8ed-e7cda6997533"
      },
      "execution_count": null,
      "outputs": [
        {
          "output_type": "stream",
          "name": "stdout",
          "text": [
            "resize: [[1 2 3]\n",
            " [1 2 3]]\n"
          ]
        }
      ]
    },
    {
      "cell_type": "code",
      "source": [
        "expand_dims = np.expand_dims(arr1, axis=0) # Add a new axis\n",
        "print(\"expand_dims:\", expand_dims)"
      ],
      "metadata": {
        "colab": {
          "base_uri": "https://localhost:8080/"
        },
        "id": "9pZrbH3zw_4Z",
        "outputId": "c7d28ad4-8d58-486f-c122-78acb1d8dce1"
      },
      "execution_count": null,
      "outputs": [
        {
          "output_type": "stream",
          "name": "stdout",
          "text": [
            "expand_dims: [[1 2 3]]\n"
          ]
        }
      ]
    },
    {
      "cell_type": "code",
      "source": [
        "squeeze = np.squeeze(np.array([[[1]]])) # Remove axes of size 1\n",
        "print(\"squeeze:\", squeeze)"
      ],
      "metadata": {
        "colab": {
          "base_uri": "https://localhost:8080/"
        },
        "id": "vKZV7_d2v65S",
        "outputId": "411f99e5-3b88-4470-fa40-a91aabffade0"
      },
      "execution_count": null,
      "outputs": [
        {
          "output_type": "stream",
          "name": "stdout",
          "text": [
            "squeeze: 1\n"
          ]
        }
      ]
    },
    {
      "cell_type": "markdown",
      "source": [
        "## Stacking and Splitting"
      ],
      "metadata": {
        "id": "_9CmCjHexJu0"
      }
    },
    {
      "cell_type": "code",
      "source": [
        "stacked = np.vstack((arr1, arr1))        # Vertical stacking\n",
        "print(\"stacked:\", stacked)"
      ],
      "metadata": {
        "colab": {
          "base_uri": "https://localhost:8080/"
        },
        "id": "HwxdjuirxSyd",
        "outputId": "5f345571-ec10-4a0d-d461-24475543a845"
      },
      "execution_count": null,
      "outputs": [
        {
          "output_type": "stream",
          "name": "stdout",
          "text": [
            "stacked: [[1 2 3]\n",
            " [1 2 3]]\n"
          ]
        }
      ]
    },
    {
      "cell_type": "code",
      "source": [
        "hstacked = np.hstack((arr1, arr1))       # Horizontal stacking\n",
        "print(\"hstacked:\", hstacked)"
      ],
      "metadata": {
        "colab": {
          "base_uri": "https://localhost:8080/"
        },
        "id": "9JIvA-MExSvG",
        "outputId": "1429269d-38cd-4c71-9479-d2e23186cf05"
      },
      "execution_count": null,
      "outputs": [
        {
          "output_type": "stream",
          "name": "stdout",
          "text": [
            "hstacked: [1 2 3 1 2 3]\n"
          ]
        }
      ]
    },
    {
      "cell_type": "code",
      "source": [
        "dstacked = np.dstack((arr1, arr1))       # Depth stacking\n",
        "print(\"dstacked:\", dstacked)"
      ],
      "metadata": {
        "colab": {
          "base_uri": "https://localhost:8080/"
        },
        "id": "4lIbIXFFxSrE",
        "outputId": "afb353f4-8b18-4d17-f386-f3b9c1b830fc"
      },
      "execution_count": null,
      "outputs": [
        {
          "output_type": "stream",
          "name": "stdout",
          "text": [
            "dstacked: [[[1 1]\n",
            "  [2 2]\n",
            "  [3 3]]]\n"
          ]
        }
      ]
    },
    {
      "cell_type": "code",
      "source": [
        "split = np.array_split(arr2, 2)          # Splitting array\n",
        "print(\"split:\", split)"
      ],
      "metadata": {
        "colab": {
          "base_uri": "https://localhost:8080/"
        },
        "id": "VdDI_vI7xSmy",
        "outputId": "efe75c82-6fb6-4721-ca2c-3fd3e7393a20"
      },
      "execution_count": null,
      "outputs": [
        {
          "output_type": "stream",
          "name": "stdout",
          "text": [
            "split: [array([[1, 2]]), array([[3, 4]])]\n"
          ]
        }
      ]
    },
    {
      "cell_type": "code",
      "source": [
        "hsplit = np.hsplit(arr2, 2)              # Horizontal split\n",
        "print(\"hsplit:\", hsplit)"
      ],
      "metadata": {
        "colab": {
          "base_uri": "https://localhost:8080/"
        },
        "id": "tnBEwiDHxSdV",
        "outputId": "f1cee21a-65dc-4d0f-a109-ef03eca0e55f"
      },
      "execution_count": null,
      "outputs": [
        {
          "output_type": "stream",
          "name": "stdout",
          "text": [
            "hsplit: [array([[1],\n",
            "       [3]]), array([[2],\n",
            "       [4]])]\n"
          ]
        }
      ]
    },
    {
      "cell_type": "code",
      "source": [
        "vsplit = np.vsplit(arr2, 2)              # Vertical split\n",
        "print(\"vsplit:\", vsplit)"
      ],
      "metadata": {
        "colab": {
          "base_uri": "https://localhost:8080/"
        },
        "id": "J34dlz3mxSVV",
        "outputId": "2b3a21e0-8db8-40ed-eac3-738e5d50631b"
      },
      "execution_count": null,
      "outputs": [
        {
          "output_type": "stream",
          "name": "stdout",
          "text": [
            "vsplit: [array([[1, 2]]), array([[3, 4]])]\n"
          ]
        }
      ]
    },
    {
      "cell_type": "code",
      "source": [
        "column_stack = np.column_stack((arr1, arr1)) # Stack columns\n",
        "print(\"column_stack:\", column_stack)"
      ],
      "metadata": {
        "colab": {
          "base_uri": "https://localhost:8080/"
        },
        "id": "ukf1SlhdxSHw",
        "outputId": "fe9550ab-7979-4a71-9c67-2615c86dd89f"
      },
      "execution_count": null,
      "outputs": [
        {
          "output_type": "stream",
          "name": "stdout",
          "text": [
            "column_stack: [[1 1]\n",
            " [2 2]\n",
            " [3 3]]\n"
          ]
        }
      ]
    },
    {
      "cell_type": "markdown",
      "source": [
        "## Logical Operations"
      ],
      "metadata": {
        "id": "7XIa0uW_xgYV"
      }
    },
    {
      "cell_type": "code",
      "source": [
        "logical_and = np.logical_and(arr1 > 1, arr1 < 3)  # Logical AND\n",
        "print(\"logical_and:\", logical_and)"
      ],
      "metadata": {
        "colab": {
          "base_uri": "https://localhost:8080/"
        },
        "id": "WmkSQ1cqxhrl",
        "outputId": "d0ca8d61-f7f9-499f-dabb-394fa66995c5"
      },
      "execution_count": null,
      "outputs": [
        {
          "output_type": "stream",
          "name": "stdout",
          "text": [
            "logical_and: [False  True False]\n"
          ]
        }
      ]
    },
    {
      "cell_type": "code",
      "source": [
        "logical_or = np.logical_or(arr1 > 1, arr1 < 3)    # Logical OR\n",
        "print(\"logical_or:\", logical_or)"
      ],
      "metadata": {
        "colab": {
          "base_uri": "https://localhost:8080/"
        },
        "id": "e2tDyzTBxikt",
        "outputId": "78edfd9b-1570-4dc9-f396-9ee12b77c3d9"
      },
      "execution_count": null,
      "outputs": [
        {
          "output_type": "stream",
          "name": "stdout",
          "text": [
            "logical_or: [ True  True  True]\n"
          ]
        }
      ]
    },
    {
      "cell_type": "code",
      "source": [
        "logical_not = np.logical_not(arr1 > 2)           # Logical NOT\n",
        "print(\"logical_not:\", logical_not)"
      ],
      "metadata": {
        "colab": {
          "base_uri": "https://localhost:8080/"
        },
        "id": "1YLvuKPcxiSb",
        "outputId": "f53a4867-5df2-4ee4-8a8f-f0ce2645adc6"
      },
      "execution_count": null,
      "outputs": [
        {
          "output_type": "stream",
          "name": "stdout",
          "text": [
            "logical_not: [ True  True False]\n"
          ]
        }
      ]
    },
    {
      "cell_type": "code",
      "source": [
        "any_val = np.any(arr1 > 1)                       # Check if any value satisfies condition\n",
        "print(\"any_val:\", any_val)"
      ],
      "metadata": {
        "colab": {
          "base_uri": "https://localhost:8080/"
        },
        "id": "RaE1yiJNxiPF",
        "outputId": "724fb092-bd97-45e1-8f42-a2545537549c"
      },
      "execution_count": null,
      "outputs": [
        {
          "output_type": "stream",
          "name": "stdout",
          "text": [
            "any_val: True\n"
          ]
        }
      ]
    },
    {
      "cell_type": "code",
      "source": [
        "all_val = np.all(arr1 > 1)                       # Check if all values satisfy condition\n",
        "print(\"all_val:\", all_val)"
      ],
      "metadata": {
        "colab": {
          "base_uri": "https://localhost:8080/"
        },
        "id": "1xbQDVS4xiMR",
        "outputId": "55462a09-f493-4fed-acf9-e8fd24449900"
      },
      "execution_count": null,
      "outputs": [
        {
          "output_type": "stream",
          "name": "stdout",
          "text": [
            "all_val: False\n"
          ]
        }
      ]
    },
    {
      "cell_type": "markdown",
      "source": [
        "## Masking\n"
      ],
      "metadata": {
        "id": "cyvfUsQJxvfn"
      }
    },
    {
      "cell_type": "code",
      "source": [
        "masked = arr1[arr1 > 1]                  # Mask elements greater than 1\n",
        "print(\"masked:\", masked)"
      ],
      "metadata": {
        "colab": {
          "base_uri": "https://localhost:8080/"
        },
        "id": "tWWWLvZixyEc",
        "outputId": "b7692319-f44b-4ab0-9c89-888c2fb58bd4"
      },
      "execution_count": null,
      "outputs": [
        {
          "output_type": "stream",
          "name": "stdout",
          "text": [
            "masked: [2 3]\n"
          ]
        }
      ]
    },
    {
      "cell_type": "markdown",
      "source": [
        "If all the arrays are 1-D, `np.where()` is equivalent to:\n",
        "```python\n",
        "[xv if c else yv\n",
        " for c, xv, yv in zip(condition, x, y)]\n",
        "```"
      ],
      "metadata": {
        "id": "-_6xZBtf1n7P"
      }
    },
    {
      "cell_type": "code",
      "source": [
        "where = np.where(arr1 > 2, arr1, 0)      # Replace based on condition\n",
        "print(\"where:\", where)"
      ],
      "metadata": {
        "colab": {
          "base_uri": "https://localhost:8080/"
        },
        "id": "sWtdGZMFxyBM",
        "outputId": "d95ad335-a574-410a-c0c9-47beb3b5df6a"
      },
      "execution_count": null,
      "outputs": [
        {
          "output_type": "stream",
          "name": "stdout",
          "text": [
            "where: [0 0 3]\n"
          ]
        }
      ]
    },
    {
      "cell_type": "code",
      "source": [
        "a = np.arange(10)\n",
        "np.where(a < 5, a, 10*a)\n",
        "# Output: array([ 0,  1,  2,  3,  4, 50, 60, 70, 80, 90])"
      ],
      "metadata": {
        "colab": {
          "base_uri": "https://localhost:8080/"
        },
        "id": "a0OzQ5G01-xQ",
        "outputId": "86857393-57ae-45e2-9bdf-81d9b05e9d00"
      },
      "execution_count": null,
      "outputs": [
        {
          "output_type": "execute_result",
          "data": {
            "text/plain": [
              "array([ 0,  1,  2,  3,  4, 50, 60, 70, 80, 90])"
            ]
          },
          "metadata": {},
          "execution_count": 79
        }
      ]
    },
    {
      "cell_type": "code",
      "source": [
        "nonzero = np.nonzero(arr1)               # Indices of non-zero elements\n",
        "print(\"nonzero:\", nonzero)"
      ],
      "metadata": {
        "colab": {
          "base_uri": "https://localhost:8080/"
        },
        "id": "SXCjd7x9xx-r",
        "outputId": "162d0ceb-a15c-47e8-eee4-f4e8688fbf0a"
      },
      "execution_count": null,
      "outputs": [
        {
          "output_type": "stream",
          "name": "stdout",
          "text": [
            "nonzero: (array([0, 1, 2]),)\n"
          ]
        }
      ]
    },
    {
      "cell_type": "markdown",
      "source": [
        "## Advanced Indexing\n"
      ],
      "metadata": {
        "id": "W0FOtAzDx9hL"
      }
    },
    {
      "cell_type": "code",
      "source": [
        "index_array = arr2[[0, 1], [1, 0]]       # Select elements (0,1) and (1,0)\n",
        "print(\"index_array:\", index_array)"
      ],
      "metadata": {
        "colab": {
          "base_uri": "https://localhost:8080/"
        },
        "id": "YxPwR3uBxx8A",
        "outputId": "7003b46c-3296-4170-94db-f0e71a2dff70"
      },
      "execution_count": null,
      "outputs": [
        {
          "output_type": "stream",
          "name": "stdout",
          "text": [
            "index_array: [2 3]\n"
          ]
        }
      ]
    },
    {
      "cell_type": "code",
      "source": [
        "boolean_indexing = arr1[arr1 % 2 == 0]   # Boolean indexing\n",
        "print(\"boolean_indexing:\", boolean_indexing)"
      ],
      "metadata": {
        "colab": {
          "base_uri": "https://localhost:8080/"
        },
        "id": "hAWyQ3zgxx5E",
        "outputId": "4229c7bb-c48c-4d81-fad1-dcf81d5a9e81"
      },
      "execution_count": null,
      "outputs": [
        {
          "output_type": "stream",
          "name": "stdout",
          "text": [
            "boolean_indexing: [2]\n"
          ]
        }
      ]
    },
    {
      "cell_type": "code",
      "source": [
        "fancy_indexing = arr1[[0, 2]]            # Fancy indexing\n",
        "print(\"fancy_indexing:\", fancy_indexing)"
      ],
      "metadata": {
        "colab": {
          "base_uri": "https://localhost:8080/"
        },
        "id": "gCnWmMGXxx2h",
        "outputId": "22fe282b-8b10-4bda-8293-6558ca99c58d"
      },
      "execution_count": null,
      "outputs": [
        {
          "output_type": "stream",
          "name": "stdout",
          "text": [
            "fancy_indexing: [1 3]\n"
          ]
        }
      ]
    },
    {
      "cell_type": "code",
      "source": [
        "ix_ = np.ix_([0, 1], [0, 1])             # Create index arrays\n",
        "print(\"ix_:\", ix_)"
      ],
      "metadata": {
        "colab": {
          "base_uri": "https://localhost:8080/"
        },
        "id": "vaQjFTybxxzy",
        "outputId": "3a56de09-75dc-4bcd-b4af-98cd4fcf48ed"
      },
      "execution_count": null,
      "outputs": [
        {
          "output_type": "stream",
          "name": "stdout",
          "text": [
            "ix_: (array([[0],\n",
            "       [1]]), array([[0, 1]]))\n"
          ]
        }
      ]
    },
    {
      "cell_type": "markdown",
      "source": [
        "## **Broadcasting**\n",
        "\n",
        "Broadcasting allows NumPy to perform operations on arrays of different shapes by \"stretching\" the smaller array to match the larger array's shape, without physically copying the data.\n",
        "\n",
        "### Rules:\n",
        "\n",
        "1. Arrays are aligned from the right.\n",
        "2. Dimensions are compared:\n",
        "  - If they are equal, they can be operated on.\n",
        "  - If one dimension is 1, it is stretched to match the other.\n",
        "  - If the dimensions don't align, an error is raised."
      ],
      "metadata": {
        "id": "f8v1hl3myKtA"
      }
    },
    {
      "cell_type": "code",
      "source": [
        "a = np.array([1, 2, 3])\n",
        "b = 2  # Scalar\n",
        "\n",
        "# Broadcasting scalar\n",
        "c = a + b\n",
        "print(c)  # Output: [3 4 5]"
      ],
      "metadata": {
        "colab": {
          "base_uri": "https://localhost:8080/"
        },
        "id": "5Etf5WkzGRY_",
        "outputId": "824aab3a-2816-426b-d9b5-ce43de591b78"
      },
      "execution_count": null,
      "outputs": [
        {
          "output_type": "stream",
          "name": "stdout",
          "text": [
            "[3 4 5]\n"
          ]
        }
      ]
    },
    {
      "cell_type": "code",
      "source": [
        "a = np.array([[1, 2, 3],\n",
        "              [4, 5, 6]])\n",
        "b = np.array([1, 2, 3])\n",
        "\n",
        "# Broadcasting\n",
        "c = a + b\n",
        "print(c)\n",
        "# Output:\n",
        "# [[ 2  4  6]\n",
        "#  [ 5  7  9]]"
      ],
      "metadata": {
        "colab": {
          "base_uri": "https://localhost:8080/"
        },
        "id": "1wIt4_3yGSkW",
        "outputId": "0b2925c3-3f71-4e16-d8ed-f170bf1e7ea5"
      },
      "execution_count": null,
      "outputs": [
        {
          "output_type": "stream",
          "name": "stdout",
          "text": [
            "[[2 4 6]\n",
            " [5 7 9]]\n"
          ]
        }
      ]
    },
    {
      "cell_type": "code",
      "source": [
        "a = np.array([[1, 2],\n",
        "              [3, 4]])\n",
        "b = np.array([1, 2, 3])\n",
        "\n",
        "# This will raise an error\n",
        "# c = a + b\n",
        "# ValueError: operands could not be broadcast together with shapes (2,2) (3,)"
      ],
      "metadata": {
        "id": "ceUNjPv9GYxf"
      },
      "execution_count": null,
      "outputs": []
    },
    {
      "cell_type": "code",
      "source": [
        "arr3 = np.array([1, 2, 3])\n",
        "broadcasted = arr3 + np.array([[1], [2], [3]])\n",
        "print(\"broadcasted:\", broadcasted)"
      ],
      "metadata": {
        "colab": {
          "base_uri": "https://localhost:8080/"
        },
        "id": "n6EZsm2fxxxc",
        "outputId": "81871d61-6374-4bda-9c64-16965be01a74"
      },
      "execution_count": null,
      "outputs": [
        {
          "output_type": "stream",
          "name": "stdout",
          "text": [
            "broadcasted: [[2 3 4]\n",
            " [3 4 5]\n",
            " [4 5 6]]\n"
          ]
        }
      ]
    },
    {
      "cell_type": "code",
      "source": [
        "outer_product = np.outer(arr1, arr1)     # Outer product\n",
        "print(\"outer_product:\", outer_product)"
      ],
      "metadata": {
        "colab": {
          "base_uri": "https://localhost:8080/"
        },
        "id": "j46UdzsWxxsa",
        "outputId": "553d5ff0-4201-4725-ece7-85fd12bf2f33"
      },
      "execution_count": null,
      "outputs": [
        {
          "output_type": "stream",
          "name": "stdout",
          "text": [
            "outer_product: [[1 2 3]\n",
            " [2 4 6]\n",
            " [3 6 9]]\n"
          ]
        }
      ]
    },
    {
      "cell_type": "code",
      "source": [
        "a = np.array([1, 2, 3])[:, np.newaxis]  # Reshape to (3, 1)\n",
        "b = np.array([4, 5])                    # Shape (2,)\n",
        "\n",
        "result = np.matmul(a, b[np.newaxis, :])\n",
        "print(result)\n",
        "# Output:\n",
        "# [[ 4  5]\n",
        "#  [ 8 10]\n",
        "#  [12 15]]"
      ],
      "metadata": {
        "colab": {
          "base_uri": "https://localhost:8080/"
        },
        "id": "GIHri62eHm6z",
        "outputId": "1b2ed20c-0da7-4035-936a-64fc8326edbf"
      },
      "execution_count": null,
      "outputs": [
        {
          "output_type": "stream",
          "name": "stdout",
          "text": [
            "[[ 4  5]\n",
            " [ 8 10]\n",
            " [12 15]]\n"
          ]
        }
      ]
    },
    {
      "cell_type": "code",
      "source": [
        "result = a[:, np.newaxis] * b # Manual Outer Product using Broadcasting\n",
        "print(result)"
      ],
      "metadata": {
        "colab": {
          "base_uri": "https://localhost:8080/"
        },
        "id": "UySZbQF3HJTF",
        "outputId": "629d82ad-e8fa-4038-b530-bfc0e503001b"
      },
      "execution_count": null,
      "outputs": [
        {
          "output_type": "stream",
          "name": "stdout",
          "text": [
            "[[[ 4  5]]\n",
            "\n",
            " [[ 8 10]]\n",
            "\n",
            " [[12 15]]]\n"
          ]
        }
      ]
    },
    {
      "cell_type": "markdown",
      "source": [
        "## Saving and Loading\n"
      ],
      "metadata": {
        "id": "qMRW_rdRycNt"
      }
    },
    {
      "cell_type": "code",
      "source": [
        "np.save('array.npy', arr1)               # Save to file\n",
        "print(\"Saved arr1 to 'array.npy'\")"
      ],
      "metadata": {
        "colab": {
          "base_uri": "https://localhost:8080/"
        },
        "id": "o5N4379DxxqP",
        "outputId": "6a949360-2853-448f-8fe7-43db4185014a"
      },
      "execution_count": null,
      "outputs": [
        {
          "output_type": "stream",
          "name": "stdout",
          "text": [
            "Saved arr1 to 'array.npy'\n"
          ]
        }
      ]
    },
    {
      "cell_type": "code",
      "source": [
        "loaded_arr = np.load('array.npy')        # Load from file\n",
        "print(\"loaded_arr:\", loaded_arr)"
      ],
      "metadata": {
        "colab": {
          "base_uri": "https://localhost:8080/"
        },
        "id": "HUdyjFF0xxn-",
        "outputId": "0ffbfd27-5f92-4f31-abdd-95ceefad2f73"
      },
      "execution_count": null,
      "outputs": [
        {
          "output_type": "stream",
          "name": "stdout",
          "text": [
            "loaded_arr: [1 2 3]\n"
          ]
        }
      ]
    },
    {
      "cell_type": "code",
      "source": [
        "np.savetxt('array.txt', arr1)            # Save as text\n",
        "print(\"Saved arr1 to 'array.txt'\")"
      ],
      "metadata": {
        "colab": {
          "base_uri": "https://localhost:8080/"
        },
        "id": "PTqR1Sa0xxly",
        "outputId": "5c710edb-d20d-42c6-8f71-134c64c40076"
      },
      "execution_count": null,
      "outputs": [
        {
          "output_type": "stream",
          "name": "stdout",
          "text": [
            "Saved arr1 to 'array.txt'\n"
          ]
        }
      ]
    },
    {
      "cell_type": "code",
      "source": [
        "loaded_txt = np.loadtxt('array.txt')     # Load text file\n",
        "print(\"loaded_txt:\", loaded_txt)"
      ],
      "metadata": {
        "colab": {
          "base_uri": "https://localhost:8080/"
        },
        "id": "Cgw9HE73xxjp",
        "outputId": "dc7dbcf2-0d5f-4d0a-9c9e-51c3ac20d3e0"
      },
      "execution_count": null,
      "outputs": [
        {
          "output_type": "stream",
          "name": "stdout",
          "text": [
            "loaded_txt: [1. 2. 3.]\n"
          ]
        }
      ]
    },
    {
      "cell_type": "code",
      "source": [
        "np.savez('arrays.npz', arr1=arr1, arr2=arr2) # Save multiple arrays\n",
        "print(\"Saved arr1 and arr2 to 'arrays.npz'\")"
      ],
      "metadata": {
        "colab": {
          "base_uri": "https://localhost:8080/"
        },
        "id": "1_eU47fbxxhm",
        "outputId": "ede1898c-df0b-4dc6-b8fc-b820599b6cc9"
      },
      "execution_count": null,
      "outputs": [
        {
          "output_type": "stream",
          "name": "stdout",
          "text": [
            "Saved arr1 and arr2 to 'arrays.npz'\n"
          ]
        }
      ]
    },
    {
      "cell_type": "code",
      "source": [
        "loaded_npz = np.load('arrays.npz')       # Load multiple arrays\n",
        "print(\"loaded_npz['arr1']:\", loaded_npz['arr1'], \"loaded_npz['arr2']:\", loaded_npz['arr2'])"
      ],
      "metadata": {
        "colab": {
          "base_uri": "https://localhost:8080/"
        },
        "id": "6ThJpzFlxxfI",
        "outputId": "200a958c-57bf-4ad4-b5c9-eab41a09e688"
      },
      "execution_count": null,
      "outputs": [
        {
          "output_type": "stream",
          "name": "stdout",
          "text": [
            "loaded_npz['arr1']: [1 2 3] loaded_npz['arr2']: [[1 2]\n",
            " [3 4]]\n"
          ]
        }
      ]
    },
    {
      "cell_type": "markdown",
      "source": [
        "## Linear Algebra\n"
      ],
      "metadata": {
        "id": "xTng2qnIy7na"
      }
    },
    {
      "cell_type": "code",
      "source": [
        "matrix = np.array([[1, 2], [3, 4]])\n",
        "print(\"matrix:\", matrix)"
      ],
      "metadata": {
        "colab": {
          "base_uri": "https://localhost:8080/"
        },
        "id": "8Ju3YbTNxxdJ",
        "outputId": "1c6ee0df-a62b-47c0-feca-6da5ae130247"
      },
      "execution_count": null,
      "outputs": [
        {
          "output_type": "stream",
          "name": "stdout",
          "text": [
            "matrix: [[1 2]\n",
            " [3 4]]\n"
          ]
        }
      ]
    },
    {
      "cell_type": "code",
      "source": [
        "inv_matrix = np.linalg.inv(matrix)       # Inverse\n",
        "print(\"inv_matrix:\", inv_matrix)"
      ],
      "metadata": {
        "colab": {
          "base_uri": "https://localhost:8080/"
        },
        "id": "QWD0fVqKxxZA",
        "outputId": "48b70ecb-8a78-4095-b029-823928bd787b"
      },
      "execution_count": null,
      "outputs": [
        {
          "output_type": "stream",
          "name": "stdout",
          "text": [
            "inv_matrix: [[-2.   1. ]\n",
            " [ 1.5 -0.5]]\n"
          ]
        }
      ]
    },
    {
      "cell_type": "code",
      "source": [
        "rank = np.linalg.matrix_rank(matrix)     # Rank\n",
        "print(\"rank:\", rank)"
      ],
      "metadata": {
        "colab": {
          "base_uri": "https://localhost:8080/"
        },
        "id": "2XCqYgVVxxWp",
        "outputId": "64a1023a-e7a7-4d14-a28b-6bb4682fab7d"
      },
      "execution_count": null,
      "outputs": [
        {
          "output_type": "stream",
          "name": "stdout",
          "text": [
            "rank: 2\n"
          ]
        }
      ]
    },
    {
      "cell_type": "code",
      "source": [
        "eigvals, eigvecs = np.linalg.eig(matrix) # Eigenvalues & Eigenvectors\n",
        "print(\"eigvals:\", eigvals, \"eigvecs:\", eigvecs)"
      ],
      "metadata": {
        "colab": {
          "base_uri": "https://localhost:8080/"
        },
        "id": "R4TVn4C8xxUc",
        "outputId": "bb41ac04-6c44-44d9-c8b0-ae3ba94ad012"
      },
      "execution_count": null,
      "outputs": [
        {
          "output_type": "stream",
          "name": "stdout",
          "text": [
            "eigvals: [-0.37228132  5.37228132] eigvecs: [[-0.82456484 -0.41597356]\n",
            " [ 0.56576746 -0.90937671]]\n"
          ]
        }
      ]
    },
    {
      "cell_type": "code",
      "source": [
        "det = np.linalg.det(matrix)              # Determinant\n",
        "print(\"det:\", det)"
      ],
      "metadata": {
        "colab": {
          "base_uri": "https://localhost:8080/"
        },
        "id": "_jXDvtnrxxR7",
        "outputId": "e6c37b02-15a9-434c-fb71-e01cf53d9f9e"
      },
      "execution_count": null,
      "outputs": [
        {
          "output_type": "stream",
          "name": "stdout",
          "text": [
            "det: -2.0000000000000004\n"
          ]
        }
      ]
    },
    {
      "cell_type": "code",
      "source": [
        "qr = np.linalg.qr(matrix)                # QR decomposition\n",
        "print(\"qr:\", qr)"
      ],
      "metadata": {
        "colab": {
          "base_uri": "https://localhost:8080/"
        },
        "id": "F73eklfsxxPw",
        "outputId": "c2053fcf-13a2-4310-f806-06de1923f10d"
      },
      "execution_count": null,
      "outputs": [
        {
          "output_type": "stream",
          "name": "stdout",
          "text": [
            "qr: QRResult(Q=array([[-0.31622777, -0.9486833 ],\n",
            "       [-0.9486833 ,  0.31622777]]), R=array([[-3.16227766, -4.42718872],\n",
            "       [ 0.        , -0.63245553]]))\n"
          ]
        }
      ]
    },
    {
      "cell_type": "code",
      "source": [
        "svd = np.linalg.svd(matrix)              # Singular Value Decomposition\n",
        "print(\"svd:\", svd)"
      ],
      "metadata": {
        "colab": {
          "base_uri": "https://localhost:8080/"
        },
        "id": "W0y75EjjxxNp",
        "outputId": "102f4691-7547-4fe9-ed1b-0b5586d4bc78"
      },
      "execution_count": null,
      "outputs": [
        {
          "output_type": "stream",
          "name": "stdout",
          "text": [
            "svd: SVDResult(U=array([[-0.40455358, -0.9145143 ],\n",
            "       [-0.9145143 ,  0.40455358]]), S=array([5.4649857 , 0.36596619]), Vh=array([[-0.57604844, -0.81741556],\n",
            "       [ 0.81741556, -0.57604844]]))\n"
          ]
        }
      ]
    },
    {
      "cell_type": "code",
      "source": [
        "solve = np.linalg.solve(matrix, np.array([1, 2])) # Solve linear system\n",
        "print(\"solve:\", solve)"
      ],
      "metadata": {
        "colab": {
          "base_uri": "https://localhost:8080/"
        },
        "id": "BvI77dO6xxLR",
        "outputId": "43c5e609-2806-4e97-ba83-bbceb6d54550"
      },
      "execution_count": null,
      "outputs": [
        {
          "output_type": "stream",
          "name": "stdout",
          "text": [
            "solve: [0.  0.5]\n"
          ]
        }
      ]
    },
    {
      "cell_type": "code",
      "source": [
        "diag = np.diag(matrix)                   # Diagonal elements\n",
        "print(\"diag:\", diag)"
      ],
      "metadata": {
        "colab": {
          "base_uri": "https://localhost:8080/"
        },
        "id": "5aM625NgxxJI",
        "outputId": "450be19d-cfd0-4fe3-9642-7662d1f88bc1"
      },
      "execution_count": null,
      "outputs": [
        {
          "output_type": "stream",
          "name": "stdout",
          "text": [
            "diag: [1 4]\n"
          ]
        }
      ]
    },
    {
      "cell_type": "code",
      "source": [
        "trace = np.trace(matrix)                 # Trace of the matrix\n",
        "print(\"trace:\", trace)"
      ],
      "metadata": {
        "colab": {
          "base_uri": "https://localhost:8080/"
        },
        "id": "bX7Z0MjHxxGt",
        "outputId": "d0691264-6d62-4e9f-a3cd-ad7a3664d68c"
      },
      "execution_count": null,
      "outputs": [
        {
          "output_type": "stream",
          "name": "stdout",
          "text": [
            "trace: 5\n"
          ]
        }
      ]
    },
    {
      "cell_type": "markdown",
      "source": [
        "## Random Module\n"
      ],
      "metadata": {
        "id": "BWJq5CCtzZn7"
      }
    },
    {
      "cell_type": "code",
      "source": [
        "rand_uniform = np.random.rand(5)         # Uniform distribution\n",
        "print(\"rand_uniform:\", rand_uniform)"
      ],
      "metadata": {
        "colab": {
          "base_uri": "https://localhost:8080/"
        },
        "id": "QR-I5wWdxxEL",
        "outputId": "018eb697-92c3-464e-a648-cc1d1d3776fb"
      },
      "execution_count": null,
      "outputs": [
        {
          "output_type": "stream",
          "name": "stdout",
          "text": [
            "rand_uniform: [0.334159   0.75684354 0.96642164 0.98471765 0.60699016]\n"
          ]
        }
      ]
    },
    {
      "cell_type": "code",
      "source": [
        "rand_int = np.random.randint(0, 10, 5)   # Random integers\n",
        "print(\"rand_int:\", rand_int)"
      ],
      "metadata": {
        "colab": {
          "base_uri": "https://localhost:8080/"
        },
        "id": "xqq1T4ydxxA9",
        "outputId": "c758b4e0-accb-4752-e79c-1798ce4b7aa1"
      },
      "execution_count": null,
      "outputs": [
        {
          "output_type": "stream",
          "name": "stdout",
          "text": [
            "rand_int: [9 0 0 3 9]\n"
          ]
        }
      ]
    },
    {
      "cell_type": "code",
      "source": [
        "rand_normal = np.random.randn(5)         # Normal distribution\n",
        "print(\"rand_normal:\", rand_normal)"
      ],
      "metadata": {
        "colab": {
          "base_uri": "https://localhost:8080/"
        },
        "id": "j-lQfJFWxw9Z",
        "outputId": "d7b86662-0d2e-4f2e-9b45-6816aa58176d"
      },
      "execution_count": null,
      "outputs": [
        {
          "output_type": "stream",
          "name": "stdout",
          "text": [
            "rand_normal: [-0.22194526  1.38353537  1.66899655  0.34787112 -0.60910208]\n"
          ]
        }
      ]
    },
    {
      "cell_type": "code",
      "source": [
        "rand_choice = np.random.choice(arr1, 3)  # Random choice from array\n",
        "print(\"rand_choice:\", rand_choice)"
      ],
      "metadata": {
        "colab": {
          "base_uri": "https://localhost:8080/"
        },
        "id": "Op930Lsqxw5u",
        "outputId": "874d1701-2628-4a84-f6dc-007945b21479"
      },
      "execution_count": null,
      "outputs": [
        {
          "output_type": "stream",
          "name": "stdout",
          "text": [
            "rand_choice: [3 3 2]\n"
          ]
        }
      ]
    },
    {
      "cell_type": "code",
      "source": [
        "shuffle = np.random.shuffle(arr1)        # Shuffle array in place\n",
        "print(\"arr1 after shuffle:\", arr1)"
      ],
      "metadata": {
        "colab": {
          "base_uri": "https://localhost:8080/"
        },
        "id": "Eip1ks7Nxw29",
        "outputId": "113cc663-6f45-4f35-f595-08c0187445e6"
      },
      "execution_count": null,
      "outputs": [
        {
          "output_type": "stream",
          "name": "stdout",
          "text": [
            "arr1 after shuffle: [1 3 2]\n"
          ]
        }
      ]
    },
    {
      "cell_type": "code",
      "source": [
        "beta_dist = np.random.beta(0.5, 0.5, 5)  # Beta distribution\n",
        "print(\"beta_dist:\", beta_dist)"
      ],
      "metadata": {
        "colab": {
          "base_uri": "https://localhost:8080/"
        },
        "id": "f4hcihggxwk7",
        "outputId": "c736584c-05ec-4f86-e606-add9521a9c90"
      },
      "execution_count": null,
      "outputs": [
        {
          "output_type": "stream",
          "name": "stdout",
          "text": [
            "beta_dist: [0.00497031 0.62959869 0.01096879 0.00352343 0.5863085 ]\n"
          ]
        }
      ]
    },
    {
      "cell_type": "code",
      "source": [
        "binomial = np.random.binomial(10, 0.5, 5)# Binomial distribution\n",
        "print(\"binomial:\", binomial)"
      ],
      "metadata": {
        "colab": {
          "base_uri": "https://localhost:8080/"
        },
        "id": "SrEyxzy-xwhd",
        "outputId": "2a4d2fc9-128a-47e9-d222-f28948644dab"
      },
      "execution_count": null,
      "outputs": [
        {
          "output_type": "stream",
          "name": "stdout",
          "text": [
            "binomial: [6 5 4 3 5]\n"
          ]
        }
      ]
    },
    {
      "cell_type": "code",
      "source": [
        "poisson = np.random.poisson(5, 5)        # Poisson distribution\n",
        "print(\"poisson:\", poisson)"
      ],
      "metadata": {
        "colab": {
          "base_uri": "https://localhost:8080/"
        },
        "id": "naSDSxoKxwez",
        "outputId": "49031e3d-7a51-4b2f-ffe2-81a6e877cf52"
      },
      "execution_count": null,
      "outputs": [
        {
          "output_type": "stream",
          "name": "stdout",
          "text": [
            "poisson: [ 4 10  6  8  8]\n"
          ]
        }
      ]
    },
    {
      "cell_type": "markdown",
      "source": [
        "## Tips and Tricks\n"
      ],
      "metadata": {
        "id": "x-j4OnV3zqwq"
      }
    },
    {
      "cell_type": "code",
      "source": [
        "np.set_printoptions(precision=2)         # Set print precision\n",
        "print(\"Set print precision to 2\")"
      ],
      "metadata": {
        "colab": {
          "base_uri": "https://localhost:8080/"
        },
        "id": "C5YUj6gds7pL",
        "outputId": "aba0a7d1-0a9d-4d25-e0ec-79c1d153dd7a"
      },
      "execution_count": null,
      "outputs": [
        {
          "output_type": "stream",
          "name": "stdout",
          "text": [
            "Set print precision to 2\n"
          ]
        }
      ]
    },
    {
      "cell_type": "code",
      "source": [
        "np.random.seed(42)                       # Set random seed for reproducibility\n",
        "print(\"Set random seed to 42\")"
      ],
      "metadata": {
        "colab": {
          "base_uri": "https://localhost:8080/"
        },
        "id": "FQBXJ1sAt2Je",
        "outputId": "48b197ed-a572-4605-d258-4aaf09a5ab9b"
      },
      "execution_count": null,
      "outputs": [
        {
          "output_type": "stream",
          "name": "stdout",
          "text": [
            "Set random seed to 42\n"
          ]
        }
      ]
    },
    {
      "cell_type": "code",
      "source": [
        "np.clip(arr1, 0, 10)                     # Clip values between 0 and 10\n",
        "print(\"Clipped arr1 to range 0-10:\", arr1)"
      ],
      "metadata": {
        "colab": {
          "base_uri": "https://localhost:8080/"
        },
        "id": "Gaxu1R8Ez0D6",
        "outputId": "1f44f750-e3f0-4b98-f108-34db84052118"
      },
      "execution_count": null,
      "outputs": [
        {
          "output_type": "stream",
          "name": "stdout",
          "text": [
            "Clipped arr1 to range 0-10: [1 3 2]\n"
          ]
        }
      ]
    },
    {
      "cell_type": "code",
      "source": [
        "np.unique(arr1)                          # Find unique elements\n",
        "print(\"Unique elements in arr1:\", np.unique(arr1))"
      ],
      "metadata": {
        "colab": {
          "base_uri": "https://localhost:8080/"
        },
        "id": "HGbXscMWz0Am",
        "outputId": "71596396-de1c-4907-8c26-6b8689bed3b0"
      },
      "execution_count": null,
      "outputs": [
        {
          "output_type": "stream",
          "name": "stdout",
          "text": [
            "Unique elements in arr1: [1 2 3]\n"
          ]
        }
      ]
    },
    {
      "cell_type": "code",
      "source": [
        "np.concatenate([arr1, arr1])             # Concatenate arrays\n",
        "print(\"Concatenated arr1:\", np.concatenate([arr1, arr1]))"
      ],
      "metadata": {
        "colab": {
          "base_uri": "https://localhost:8080/"
        },
        "id": "A8STtkkBzz-F",
        "outputId": "276ba647-d73c-4af5-f5bc-e60a53d3b12b"
      },
      "execution_count": null,
      "outputs": [
        {
          "output_type": "stream",
          "name": "stdout",
          "text": [
            "Concatenated arr1: [1 3 2 1 3 2]\n"
          ]
        }
      ]
    },
    {
      "cell_type": "code",
      "source": [
        "np.repeat(arr1, 3)                       # Repeat elements\n",
        "print(\"Repeated elements of arr1:\", np.repeat(arr1, 3))"
      ],
      "metadata": {
        "colab": {
          "base_uri": "https://localhost:8080/"
        },
        "id": "mdYWv5dGzz7o",
        "outputId": "bd543b7a-a19f-42eb-fbad-adfaac583277"
      },
      "execution_count": null,
      "outputs": [
        {
          "output_type": "stream",
          "name": "stdout",
          "text": [
            "Repeated elements of arr1: [1 1 1 3 3 3 2 2 2]\n"
          ]
        }
      ]
    },
    {
      "cell_type": "code",
      "source": [
        "np.tile(arr1, 2)                         # Tile array\n",
        "print(\"Tiled arr1:\", np.tile(arr1, 2))"
      ],
      "metadata": {
        "colab": {
          "base_uri": "https://localhost:8080/"
        },
        "id": "17H8KUF9zz4-",
        "outputId": "e1d7f50b-6c6e-4da8-a961-20b791139f8c"
      },
      "execution_count": null,
      "outputs": [
        {
          "output_type": "stream",
          "name": "stdout",
          "text": [
            "Tiled arr1: [1 3 2 1 3 2]\n"
          ]
        }
      ]
    },
    {
      "cell_type": "code",
      "source": [
        "np.histogram(arr1, bins=3)               # Histogram\n",
        "print(\"Histogram of arr1:\", np.histogram(arr1, bins=3))"
      ],
      "metadata": {
        "colab": {
          "base_uri": "https://localhost:8080/"
        },
        "id": "LMAlXSFJzz2p",
        "outputId": "f6b1e167-5cfb-4bc2-b4e6-ee9ae8a0f3e7"
      },
      "execution_count": null,
      "outputs": [
        {
          "output_type": "stream",
          "name": "stdout",
          "text": [
            "Histogram of arr1: (array([1, 1, 1]), array([1.  , 1.67, 2.33, 3.  ]))\n"
          ]
        }
      ]
    },
    {
      "cell_type": "code",
      "source": [],
      "metadata": {
        "id": "eHaRiAGUzzvI"
      },
      "execution_count": null,
      "outputs": []
    }
  ]
}